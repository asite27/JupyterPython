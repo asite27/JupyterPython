{
  "nbformat": 4,
  "nbformat_minor": 0,
  "metadata": {
    "colab": {
      "provenance": [],
      "authorship_tag": "ABX9TyMNn1m/CVOcDtReim+TiC68"
    },
    "kernelspec": {
      "name": "python3",
      "display_name": "Python 3"
    },
    "language_info": {
      "name": "python"
    }
  },
  "cells": [
    {
      "cell_type": "markdown",
      "source": [
        "\n",
        "\n",
        "---\n",
        "\n",
        "### IMPORT LIBRARY\n",
        "\n",
        "---\n",
        "\n"
      ],
      "metadata": {
        "id": "PGIWsmwXA-m7"
      }
    },
    {
      "cell_type": "code",
      "source": [
        "import pandas as pd \n",
        "import numpy as np \n",
        "import matplotlib.pyplot as plt \n",
        "from sklearn.preprocessing import MinMaxScaler\n",
        "from sklearn.metrics import mean_squared_error, mean_absolute_error\n",
        "from keras.models import Sequential\n",
        "from keras.layers import Dense, LSTM, Dropout\n",
        "from keras.layers import TimeDistributed, Conv1D, MaxPooling1D, Flatten\n",
        "from keras.optimizers import SGD"
      ],
      "metadata": {
        "id": "fCZzKcOnybev"
      },
      "execution_count": null,
      "outputs": []
    },
    {
      "cell_type": "markdown",
      "source": [
        "\n",
        "\n",
        "---\n",
        "\n",
        "### LOAD DATA\n",
        "---\n",
        "\n"
      ],
      "metadata": {
        "id": "VlZJHnULBX6r"
      }
    },
    {
      "cell_type": "code",
      "source": [
        "#Dataframe Training and Test\n",
        "df_train = pd.read_csv('/content/emas.csv', index_col='Date', parse_dates=['Date'])\n",
        "df_test = pd.read_csv('/content/emas.csv', index_col='Date', parse_dates=['Date'])"
      ],
      "metadata": {
        "id": "0R_tImzAAKXr"
      },
      "execution_count": null,
      "outputs": []
    },
    {
      "cell_type": "code",
      "source": [
        "# Collab (concatenate) two dataframe with \n",
        "df = pd.concat([df_train, df_test])"
      ],
      "metadata": {
        "id": "dax7j3kP15iP"
      },
      "execution_count": null,
      "outputs": []
    },
    {
      "cell_type": "markdown",
      "source": [
        "\n",
        "\n",
        "---\n",
        "\n",
        "### Data Preprocessing\n",
        "---\n",
        "\n"
      ],
      "metadata": {
        "id": "pQUbJIvSBskS"
      }
    },
    {
      "cell_type": "code",
      "source": [
        "df"
      ],
      "metadata": {
        "colab": {
          "base_uri": "https://localhost:8080/",
          "height": 710
        },
        "id": "aaOVxLiz-vSU",
        "outputId": "00e06f01-a2ad-41a4-f1d8-e0455c82a527"
      },
      "execution_count": null,
      "outputs": [
        {
          "output_type": "execute_result",
          "data": {
            "text/plain": [
              "                  Open        High         Low       Close   Adj Close  \\\n",
              "Date                                                                     \n",
              "2011-12-15  154.740005  154.949997  151.710007  152.330002  152.330002   \n",
              "2011-12-16  154.309998  155.369995  153.899994  155.229996  155.229996   \n",
              "2011-12-19  155.479996  155.860001  154.360001  154.869995  154.869995   \n",
              "2011-12-20  156.820007  157.429993  156.580002  156.979996  156.979996   \n",
              "2011-12-21  156.979996  157.529999  156.130005  157.160004  157.160004   \n",
              "...                ...         ...         ...         ...         ...   \n",
              "2018-12-24  119.570000  120.139999  119.570000  120.019997  120.019997   \n",
              "2018-12-26  120.620003  121.000000  119.570000  119.660004  119.660004   \n",
              "2018-12-27  120.570000  120.900002  120.139999  120.570000  120.570000   \n",
              "2018-12-28  120.800003  121.080002  120.720001  121.059998  121.059998   \n",
              "2018-12-31  120.980003  121.260002  120.830002  121.250000  121.250000   \n",
              "\n",
              "              Volume     SP_open     SP_high      SP_low    SP_close  ...  \\\n",
              "Date                                                                  ...   \n",
              "2011-12-15  21521900  123.029999  123.199997  121.989998  122.180000  ...   \n",
              "2011-12-16  18124300  122.230003  122.949997  121.300003  121.589996  ...   \n",
              "2011-12-19  12547200  122.059998  122.320000  120.029999  120.290001  ...   \n",
              "2011-12-20   9136300  122.180000  124.139999  120.370003  123.930000  ...   \n",
              "2011-12-21  11996100  123.930000  124.360001  122.750000  124.169998  ...   \n",
              "...              ...         ...         ...         ...         ...  ...   \n",
              "2018-12-24   9736400  239.039993  240.839996  234.270004  234.339996  ...   \n",
              "2018-12-26  14293500  235.970001  246.179993  233.759995  246.179993  ...   \n",
              "2018-12-27  11874400  242.570007  248.289993  238.960007  248.070007  ...   \n",
              "2018-12-28   6864700  249.580002  251.399994  246.449997  247.750000  ...   \n",
              "2018-12-31   8449400  249.559998  250.190002  247.470001  249.919998  ...   \n",
              "\n",
              "              GDX_Low  GDX_Close  GDX_Adj Close  GDX_Volume   USO_Open  \\\n",
              "Date                                                                     \n",
              "2011-12-15  51.570000  51.680000      48.973877    20605600  36.900002   \n",
              "2011-12-16  52.040001  52.680000      49.921513    16285400  36.180000   \n",
              "2011-12-19  51.029999  51.169998      48.490578    15120200  36.389999   \n",
              "2011-12-20  52.369999  52.990002      50.215282    11644900  37.299999   \n",
              "2011-12-21  52.419998  52.959999      50.186852     8724300  37.669998   \n",
              "...               ...        ...            ...         ...        ...   \n",
              "2018-12-24  20.650000  21.090000      21.090000    60507000   9.490000   \n",
              "2018-12-26  20.530001  20.620001      20.620001    76365200   9.250000   \n",
              "2018-12-27  20.700001  20.969999      20.969999    52393000   9.590000   \n",
              "2018-12-28  20.570000  20.600000      20.600000    49835000   9.540000   \n",
              "2018-12-31  20.559999  21.090000      21.090000    53866600   9.630000   \n",
              "\n",
              "             USO_High    USO_Low  USO_Close  USO_Adj Close  USO_Volume  \n",
              "Date                                                                    \n",
              "2011-12-15  36.939999  36.049999  36.130001      36.130001    12616700  \n",
              "2011-12-16  36.500000  35.730000  36.270000      36.270000    12578800  \n",
              "2011-12-19  36.450001  35.930000  36.200001      36.200001     7418200  \n",
              "2011-12-20  37.610001  37.220001  37.560001      37.560001    10041600  \n",
              "2011-12-21  38.240002  37.520000  38.110001      38.110001    10728000  \n",
              "...               ...        ...        ...            ...         ...  \n",
              "2018-12-24   9.520000   9.280000   9.290000       9.290000    21598200  \n",
              "2018-12-26   9.920000   9.230000   9.900000       9.900000    40978800  \n",
              "2018-12-27   9.650000   9.370000   9.620000       9.620000    36578700  \n",
              "2018-12-28   9.650000   9.380000   9.530000       9.530000    22803400  \n",
              "2018-12-31   9.710000   9.440000   9.660000       9.660000    28417400  \n",
              "\n",
              "[3436 rows x 80 columns]"
            ],
            "text/html": [
              "\n",
              "  <div id=\"df-1d189c42-286c-4a4d-b688-be6f9e50d6ff\">\n",
              "    <div class=\"colab-df-container\">\n",
              "      <div>\n",
              "<style scoped>\n",
              "    .dataframe tbody tr th:only-of-type {\n",
              "        vertical-align: middle;\n",
              "    }\n",
              "\n",
              "    .dataframe tbody tr th {\n",
              "        vertical-align: top;\n",
              "    }\n",
              "\n",
              "    .dataframe thead th {\n",
              "        text-align: right;\n",
              "    }\n",
              "</style>\n",
              "<table border=\"1\" class=\"dataframe\">\n",
              "  <thead>\n",
              "    <tr style=\"text-align: right;\">\n",
              "      <th></th>\n",
              "      <th>Open</th>\n",
              "      <th>High</th>\n",
              "      <th>Low</th>\n",
              "      <th>Close</th>\n",
              "      <th>Adj Close</th>\n",
              "      <th>Volume</th>\n",
              "      <th>SP_open</th>\n",
              "      <th>SP_high</th>\n",
              "      <th>SP_low</th>\n",
              "      <th>SP_close</th>\n",
              "      <th>...</th>\n",
              "      <th>GDX_Low</th>\n",
              "      <th>GDX_Close</th>\n",
              "      <th>GDX_Adj Close</th>\n",
              "      <th>GDX_Volume</th>\n",
              "      <th>USO_Open</th>\n",
              "      <th>USO_High</th>\n",
              "      <th>USO_Low</th>\n",
              "      <th>USO_Close</th>\n",
              "      <th>USO_Adj Close</th>\n",
              "      <th>USO_Volume</th>\n",
              "    </tr>\n",
              "    <tr>\n",
              "      <th>Date</th>\n",
              "      <th></th>\n",
              "      <th></th>\n",
              "      <th></th>\n",
              "      <th></th>\n",
              "      <th></th>\n",
              "      <th></th>\n",
              "      <th></th>\n",
              "      <th></th>\n",
              "      <th></th>\n",
              "      <th></th>\n",
              "      <th></th>\n",
              "      <th></th>\n",
              "      <th></th>\n",
              "      <th></th>\n",
              "      <th></th>\n",
              "      <th></th>\n",
              "      <th></th>\n",
              "      <th></th>\n",
              "      <th></th>\n",
              "      <th></th>\n",
              "      <th></th>\n",
              "    </tr>\n",
              "  </thead>\n",
              "  <tbody>\n",
              "    <tr>\n",
              "      <th>2011-12-15</th>\n",
              "      <td>154.740005</td>\n",
              "      <td>154.949997</td>\n",
              "      <td>151.710007</td>\n",
              "      <td>152.330002</td>\n",
              "      <td>152.330002</td>\n",
              "      <td>21521900</td>\n",
              "      <td>123.029999</td>\n",
              "      <td>123.199997</td>\n",
              "      <td>121.989998</td>\n",
              "      <td>122.180000</td>\n",
              "      <td>...</td>\n",
              "      <td>51.570000</td>\n",
              "      <td>51.680000</td>\n",
              "      <td>48.973877</td>\n",
              "      <td>20605600</td>\n",
              "      <td>36.900002</td>\n",
              "      <td>36.939999</td>\n",
              "      <td>36.049999</td>\n",
              "      <td>36.130001</td>\n",
              "      <td>36.130001</td>\n",
              "      <td>12616700</td>\n",
              "    </tr>\n",
              "    <tr>\n",
              "      <th>2011-12-16</th>\n",
              "      <td>154.309998</td>\n",
              "      <td>155.369995</td>\n",
              "      <td>153.899994</td>\n",
              "      <td>155.229996</td>\n",
              "      <td>155.229996</td>\n",
              "      <td>18124300</td>\n",
              "      <td>122.230003</td>\n",
              "      <td>122.949997</td>\n",
              "      <td>121.300003</td>\n",
              "      <td>121.589996</td>\n",
              "      <td>...</td>\n",
              "      <td>52.040001</td>\n",
              "      <td>52.680000</td>\n",
              "      <td>49.921513</td>\n",
              "      <td>16285400</td>\n",
              "      <td>36.180000</td>\n",
              "      <td>36.500000</td>\n",
              "      <td>35.730000</td>\n",
              "      <td>36.270000</td>\n",
              "      <td>36.270000</td>\n",
              "      <td>12578800</td>\n",
              "    </tr>\n",
              "    <tr>\n",
              "      <th>2011-12-19</th>\n",
              "      <td>155.479996</td>\n",
              "      <td>155.860001</td>\n",
              "      <td>154.360001</td>\n",
              "      <td>154.869995</td>\n",
              "      <td>154.869995</td>\n",
              "      <td>12547200</td>\n",
              "      <td>122.059998</td>\n",
              "      <td>122.320000</td>\n",
              "      <td>120.029999</td>\n",
              "      <td>120.290001</td>\n",
              "      <td>...</td>\n",
              "      <td>51.029999</td>\n",
              "      <td>51.169998</td>\n",
              "      <td>48.490578</td>\n",
              "      <td>15120200</td>\n",
              "      <td>36.389999</td>\n",
              "      <td>36.450001</td>\n",
              "      <td>35.930000</td>\n",
              "      <td>36.200001</td>\n",
              "      <td>36.200001</td>\n",
              "      <td>7418200</td>\n",
              "    </tr>\n",
              "    <tr>\n",
              "      <th>2011-12-20</th>\n",
              "      <td>156.820007</td>\n",
              "      <td>157.429993</td>\n",
              "      <td>156.580002</td>\n",
              "      <td>156.979996</td>\n",
              "      <td>156.979996</td>\n",
              "      <td>9136300</td>\n",
              "      <td>122.180000</td>\n",
              "      <td>124.139999</td>\n",
              "      <td>120.370003</td>\n",
              "      <td>123.930000</td>\n",
              "      <td>...</td>\n",
              "      <td>52.369999</td>\n",
              "      <td>52.990002</td>\n",
              "      <td>50.215282</td>\n",
              "      <td>11644900</td>\n",
              "      <td>37.299999</td>\n",
              "      <td>37.610001</td>\n",
              "      <td>37.220001</td>\n",
              "      <td>37.560001</td>\n",
              "      <td>37.560001</td>\n",
              "      <td>10041600</td>\n",
              "    </tr>\n",
              "    <tr>\n",
              "      <th>2011-12-21</th>\n",
              "      <td>156.979996</td>\n",
              "      <td>157.529999</td>\n",
              "      <td>156.130005</td>\n",
              "      <td>157.160004</td>\n",
              "      <td>157.160004</td>\n",
              "      <td>11996100</td>\n",
              "      <td>123.930000</td>\n",
              "      <td>124.360001</td>\n",
              "      <td>122.750000</td>\n",
              "      <td>124.169998</td>\n",
              "      <td>...</td>\n",
              "      <td>52.419998</td>\n",
              "      <td>52.959999</td>\n",
              "      <td>50.186852</td>\n",
              "      <td>8724300</td>\n",
              "      <td>37.669998</td>\n",
              "      <td>38.240002</td>\n",
              "      <td>37.520000</td>\n",
              "      <td>38.110001</td>\n",
              "      <td>38.110001</td>\n",
              "      <td>10728000</td>\n",
              "    </tr>\n",
              "    <tr>\n",
              "      <th>...</th>\n",
              "      <td>...</td>\n",
              "      <td>...</td>\n",
              "      <td>...</td>\n",
              "      <td>...</td>\n",
              "      <td>...</td>\n",
              "      <td>...</td>\n",
              "      <td>...</td>\n",
              "      <td>...</td>\n",
              "      <td>...</td>\n",
              "      <td>...</td>\n",
              "      <td>...</td>\n",
              "      <td>...</td>\n",
              "      <td>...</td>\n",
              "      <td>...</td>\n",
              "      <td>...</td>\n",
              "      <td>...</td>\n",
              "      <td>...</td>\n",
              "      <td>...</td>\n",
              "      <td>...</td>\n",
              "      <td>...</td>\n",
              "      <td>...</td>\n",
              "    </tr>\n",
              "    <tr>\n",
              "      <th>2018-12-24</th>\n",
              "      <td>119.570000</td>\n",
              "      <td>120.139999</td>\n",
              "      <td>119.570000</td>\n",
              "      <td>120.019997</td>\n",
              "      <td>120.019997</td>\n",
              "      <td>9736400</td>\n",
              "      <td>239.039993</td>\n",
              "      <td>240.839996</td>\n",
              "      <td>234.270004</td>\n",
              "      <td>234.339996</td>\n",
              "      <td>...</td>\n",
              "      <td>20.650000</td>\n",
              "      <td>21.090000</td>\n",
              "      <td>21.090000</td>\n",
              "      <td>60507000</td>\n",
              "      <td>9.490000</td>\n",
              "      <td>9.520000</td>\n",
              "      <td>9.280000</td>\n",
              "      <td>9.290000</td>\n",
              "      <td>9.290000</td>\n",
              "      <td>21598200</td>\n",
              "    </tr>\n",
              "    <tr>\n",
              "      <th>2018-12-26</th>\n",
              "      <td>120.620003</td>\n",
              "      <td>121.000000</td>\n",
              "      <td>119.570000</td>\n",
              "      <td>119.660004</td>\n",
              "      <td>119.660004</td>\n",
              "      <td>14293500</td>\n",
              "      <td>235.970001</td>\n",
              "      <td>246.179993</td>\n",
              "      <td>233.759995</td>\n",
              "      <td>246.179993</td>\n",
              "      <td>...</td>\n",
              "      <td>20.530001</td>\n",
              "      <td>20.620001</td>\n",
              "      <td>20.620001</td>\n",
              "      <td>76365200</td>\n",
              "      <td>9.250000</td>\n",
              "      <td>9.920000</td>\n",
              "      <td>9.230000</td>\n",
              "      <td>9.900000</td>\n",
              "      <td>9.900000</td>\n",
              "      <td>40978800</td>\n",
              "    </tr>\n",
              "    <tr>\n",
              "      <th>2018-12-27</th>\n",
              "      <td>120.570000</td>\n",
              "      <td>120.900002</td>\n",
              "      <td>120.139999</td>\n",
              "      <td>120.570000</td>\n",
              "      <td>120.570000</td>\n",
              "      <td>11874400</td>\n",
              "      <td>242.570007</td>\n",
              "      <td>248.289993</td>\n",
              "      <td>238.960007</td>\n",
              "      <td>248.070007</td>\n",
              "      <td>...</td>\n",
              "      <td>20.700001</td>\n",
              "      <td>20.969999</td>\n",
              "      <td>20.969999</td>\n",
              "      <td>52393000</td>\n",
              "      <td>9.590000</td>\n",
              "      <td>9.650000</td>\n",
              "      <td>9.370000</td>\n",
              "      <td>9.620000</td>\n",
              "      <td>9.620000</td>\n",
              "      <td>36578700</td>\n",
              "    </tr>\n",
              "    <tr>\n",
              "      <th>2018-12-28</th>\n",
              "      <td>120.800003</td>\n",
              "      <td>121.080002</td>\n",
              "      <td>120.720001</td>\n",
              "      <td>121.059998</td>\n",
              "      <td>121.059998</td>\n",
              "      <td>6864700</td>\n",
              "      <td>249.580002</td>\n",
              "      <td>251.399994</td>\n",
              "      <td>246.449997</td>\n",
              "      <td>247.750000</td>\n",
              "      <td>...</td>\n",
              "      <td>20.570000</td>\n",
              "      <td>20.600000</td>\n",
              "      <td>20.600000</td>\n",
              "      <td>49835000</td>\n",
              "      <td>9.540000</td>\n",
              "      <td>9.650000</td>\n",
              "      <td>9.380000</td>\n",
              "      <td>9.530000</td>\n",
              "      <td>9.530000</td>\n",
              "      <td>22803400</td>\n",
              "    </tr>\n",
              "    <tr>\n",
              "      <th>2018-12-31</th>\n",
              "      <td>120.980003</td>\n",
              "      <td>121.260002</td>\n",
              "      <td>120.830002</td>\n",
              "      <td>121.250000</td>\n",
              "      <td>121.250000</td>\n",
              "      <td>8449400</td>\n",
              "      <td>249.559998</td>\n",
              "      <td>250.190002</td>\n",
              "      <td>247.470001</td>\n",
              "      <td>249.919998</td>\n",
              "      <td>...</td>\n",
              "      <td>20.559999</td>\n",
              "      <td>21.090000</td>\n",
              "      <td>21.090000</td>\n",
              "      <td>53866600</td>\n",
              "      <td>9.630000</td>\n",
              "      <td>9.710000</td>\n",
              "      <td>9.440000</td>\n",
              "      <td>9.660000</td>\n",
              "      <td>9.660000</td>\n",
              "      <td>28417400</td>\n",
              "    </tr>\n",
              "  </tbody>\n",
              "</table>\n",
              "<p>3436 rows × 80 columns</p>\n",
              "</div>\n",
              "      <button class=\"colab-df-convert\" onclick=\"convertToInteractive('df-1d189c42-286c-4a4d-b688-be6f9e50d6ff')\"\n",
              "              title=\"Convert this dataframe to an interactive table.\"\n",
              "              style=\"display:none;\">\n",
              "        \n",
              "  <svg xmlns=\"http://www.w3.org/2000/svg\" height=\"24px\"viewBox=\"0 0 24 24\"\n",
              "       width=\"24px\">\n",
              "    <path d=\"M0 0h24v24H0V0z\" fill=\"none\"/>\n",
              "    <path d=\"M18.56 5.44l.94 2.06.94-2.06 2.06-.94-2.06-.94-.94-2.06-.94 2.06-2.06.94zm-11 1L8.5 8.5l.94-2.06 2.06-.94-2.06-.94L8.5 2.5l-.94 2.06-2.06.94zm10 10l.94 2.06.94-2.06 2.06-.94-2.06-.94-.94-2.06-.94 2.06-2.06.94z\"/><path d=\"M17.41 7.96l-1.37-1.37c-.4-.4-.92-.59-1.43-.59-.52 0-1.04.2-1.43.59L10.3 9.45l-7.72 7.72c-.78.78-.78 2.05 0 2.83L4 21.41c.39.39.9.59 1.41.59.51 0 1.02-.2 1.41-.59l7.78-7.78 2.81-2.81c.8-.78.8-2.07 0-2.86zM5.41 20L4 18.59l7.72-7.72 1.47 1.35L5.41 20z\"/>\n",
              "  </svg>\n",
              "      </button>\n",
              "      \n",
              "  <style>\n",
              "    .colab-df-container {\n",
              "      display:flex;\n",
              "      flex-wrap:wrap;\n",
              "      gap: 12px;\n",
              "    }\n",
              "\n",
              "    .colab-df-convert {\n",
              "      background-color: #E8F0FE;\n",
              "      border: none;\n",
              "      border-radius: 50%;\n",
              "      cursor: pointer;\n",
              "      display: none;\n",
              "      fill: #1967D2;\n",
              "      height: 32px;\n",
              "      padding: 0 0 0 0;\n",
              "      width: 32px;\n",
              "    }\n",
              "\n",
              "    .colab-df-convert:hover {\n",
              "      background-color: #E2EBFA;\n",
              "      box-shadow: 0px 1px 2px rgba(60, 64, 67, 0.3), 0px 1px 3px 1px rgba(60, 64, 67, 0.15);\n",
              "      fill: #174EA6;\n",
              "    }\n",
              "\n",
              "    [theme=dark] .colab-df-convert {\n",
              "      background-color: #3B4455;\n",
              "      fill: #D2E3FC;\n",
              "    }\n",
              "\n",
              "    [theme=dark] .colab-df-convert:hover {\n",
              "      background-color: #434B5C;\n",
              "      box-shadow: 0px 1px 3px 1px rgba(0, 0, 0, 0.15);\n",
              "      filter: drop-shadow(0px 1px 2px rgba(0, 0, 0, 0.3));\n",
              "      fill: #FFFFFF;\n",
              "    }\n",
              "  </style>\n",
              "\n",
              "      <script>\n",
              "        const buttonEl =\n",
              "          document.querySelector('#df-1d189c42-286c-4a4d-b688-be6f9e50d6ff button.colab-df-convert');\n",
              "        buttonEl.style.display =\n",
              "          google.colab.kernel.accessAllowed ? 'block' : 'none';\n",
              "\n",
              "        async function convertToInteractive(key) {\n",
              "          const element = document.querySelector('#df-1d189c42-286c-4a4d-b688-be6f9e50d6ff');\n",
              "          const dataTable =\n",
              "            await google.colab.kernel.invokeFunction('convertToInteractive',\n",
              "                                                     [key], {});\n",
              "          if (!dataTable) return;\n",
              "\n",
              "          const docLinkHtml = 'Like what you see? Visit the ' +\n",
              "            '<a target=\"_blank\" href=https://colab.research.google.com/notebooks/data_table.ipynb>data table notebook</a>'\n",
              "            + ' to learn more about interactive tables.';\n",
              "          element.innerHTML = '';\n",
              "          dataTable['output_type'] = 'display_data';\n",
              "          await google.colab.output.renderOutput(dataTable, element);\n",
              "          const docLink = document.createElement('div');\n",
              "          docLink.innerHTML = docLinkHtml;\n",
              "          element.appendChild(docLink);\n",
              "        }\n",
              "      </script>\n",
              "    </div>\n",
              "  </div>\n",
              "  "
            ]
          },
          "metadata": {},
          "execution_count": 4
        }
      ]
    },
    {
      "cell_type": "code",
      "source": [
        "df.info()"
      ],
      "metadata": {
        "colab": {
          "base_uri": "https://localhost:8080/"
        },
        "id": "MCdh9CPL_SSp",
        "outputId": "7aee7708-233a-4916-b5c5-35ef820292d0"
      },
      "execution_count": null,
      "outputs": [
        {
          "output_type": "stream",
          "name": "stdout",
          "text": [
            "<class 'pandas.core.frame.DataFrame'>\n",
            "DatetimeIndex: 3436 entries, 2011-12-15 to 2018-12-31\n",
            "Data columns (total 80 columns):\n",
            " #   Column         Non-Null Count  Dtype  \n",
            "---  ------         --------------  -----  \n",
            " 0   Open           3436 non-null   float64\n",
            " 1   High           3436 non-null   float64\n",
            " 2   Low            3436 non-null   float64\n",
            " 3   Close          3436 non-null   float64\n",
            " 4   Adj Close      3436 non-null   float64\n",
            " 5   Volume         3436 non-null   int64  \n",
            " 6   SP_open        3436 non-null   float64\n",
            " 7   SP_high        3436 non-null   float64\n",
            " 8   SP_low         3436 non-null   float64\n",
            " 9   SP_close       3436 non-null   float64\n",
            " 10  SP_Ajclose     3436 non-null   float64\n",
            " 11  SP_volume      3436 non-null   int64  \n",
            " 12  DJ_open        3436 non-null   float64\n",
            " 13  DJ_high        3436 non-null   float64\n",
            " 14  DJ_low         3436 non-null   float64\n",
            " 15  DJ_close       3436 non-null   float64\n",
            " 16  DJ_Ajclose     3436 non-null   float64\n",
            " 17  DJ_volume      3436 non-null   int64  \n",
            " 18  EG_open        3436 non-null   float64\n",
            " 19  EG_high        3436 non-null   float64\n",
            " 20  EG_low         3436 non-null   float64\n",
            " 21  EG_close       3436 non-null   float64\n",
            " 22  EG_Ajclose     3436 non-null   float64\n",
            " 23  EG_volume      3436 non-null   int64  \n",
            " 24  EU_Price       3436 non-null   float64\n",
            " 25  EU_open        3436 non-null   float64\n",
            " 26  EU_high        3436 non-null   float64\n",
            " 27  EU_low         3436 non-null   float64\n",
            " 28  EU_Trend       3436 non-null   int64  \n",
            " 29  OF_Price       3436 non-null   float64\n",
            " 30  OF_Open        3436 non-null   float64\n",
            " 31  OF_High        3436 non-null   float64\n",
            " 32  OF_Low         3436 non-null   float64\n",
            " 33  OF_Volume      3436 non-null   int64  \n",
            " 34  OF_Trend       3436 non-null   int64  \n",
            " 35  OS_Price       3436 non-null   float64\n",
            " 36  OS_Open        3436 non-null   float64\n",
            " 37  OS_High        3436 non-null   float64\n",
            " 38  OS_Low         3436 non-null   float64\n",
            " 39  OS_Trend       3436 non-null   int64  \n",
            " 40  SF_Price       3436 non-null   int64  \n",
            " 41  SF_Open        3436 non-null   int64  \n",
            " 42  SF_High        3436 non-null   int64  \n",
            " 43  SF_Low         3436 non-null   int64  \n",
            " 44  SF_Volume      3436 non-null   int64  \n",
            " 45  SF_Trend       3436 non-null   int64  \n",
            " 46  USB_Price      3436 non-null   float64\n",
            " 47  USB_Open       3436 non-null   float64\n",
            " 48  USB_High       3436 non-null   float64\n",
            " 49  USB_Low        3436 non-null   float64\n",
            " 50  USB_Trend      3436 non-null   int64  \n",
            " 51  PLT_Price      3436 non-null   float64\n",
            " 52  PLT_Open       3436 non-null   float64\n",
            " 53  PLT_High       3436 non-null   float64\n",
            " 54  PLT_Low        3436 non-null   float64\n",
            " 55  PLT_Trend      3436 non-null   int64  \n",
            " 56  PLD_Price      3436 non-null   float64\n",
            " 57  PLD_Open       3436 non-null   float64\n",
            " 58  PLD_High       3436 non-null   float64\n",
            " 59  PLD_Low        3436 non-null   float64\n",
            " 60  PLD_Trend      3436 non-null   int64  \n",
            " 61  RHO_PRICE      3436 non-null   int64  \n",
            " 62  USDI_Price     3436 non-null   float64\n",
            " 63  USDI_Open      3436 non-null   float64\n",
            " 64  USDI_High      3436 non-null   float64\n",
            " 65  USDI_Low       3436 non-null   float64\n",
            " 66  USDI_Volume    3436 non-null   int64  \n",
            " 67  USDI_Trend     3436 non-null   int64  \n",
            " 68  GDX_Open       3436 non-null   float64\n",
            " 69  GDX_High       3436 non-null   float64\n",
            " 70  GDX_Low        3436 non-null   float64\n",
            " 71  GDX_Close      3436 non-null   float64\n",
            " 72  GDX_Adj Close  3436 non-null   float64\n",
            " 73  GDX_Volume     3436 non-null   int64  \n",
            " 74  USO_Open       3436 non-null   float64\n",
            " 75  USO_High       3436 non-null   float64\n",
            " 76  USO_Low        3436 non-null   float64\n",
            " 77  USO_Close      3436 non-null   float64\n",
            " 78  USO_Adj Close  3436 non-null   float64\n",
            " 79  USO_Volume     3436 non-null   int64  \n",
            "dtypes: float64(58), int64(22)\n",
            "memory usage: 2.1 MB\n"
          ]
        }
      ]
    },
    {
      "cell_type": "code",
      "source": [
        "print(df['Adj Close'].describe())"
      ],
      "metadata": {
        "id": "cyOM6t1mQlCS",
        "colab": {
          "base_uri": "https://localhost:8080/"
        },
        "outputId": "17364738-726f-4f32-b7fa-068378cab527"
      },
      "execution_count": null,
      "outputs": [
        {
          "output_type": "stream",
          "name": "stdout",
          "text": [
            "count    3436.000000\n",
            "mean      127.319482\n",
            "std        17.533716\n",
            "min       100.500000\n",
            "25%       116.050003\n",
            "50%       121.795002\n",
            "75%       128.470001\n",
            "max       173.610001\n",
            "Name: Adj Close, dtype: float64\n"
          ]
        }
      ]
    },
    {
      "cell_type": "code",
      "source": [
        "# visualization train dan test nya\n",
        "df_train[\"Adj Close\"].plot(figsize=(16,4),legend=True)\n",
        "df_test[\"Adj Close\"].plot(figsize=(16,4),legend=True)\n",
        "plt.legend(['Training set','Test set'])\n",
        "plt.title('Gold price')\n",
        "plt.show()"
      ],
      "metadata": {
        "id": "7arEUKXfUTan",
        "colab": {
          "base_uri": "https://localhost:8080/",
          "height": 359
        },
        "outputId": "945e8b9e-d41d-40e8-92c8-f76656a4d1b5"
      },
      "execution_count": null,
      "outputs": [
        {
          "output_type": "display_data",
          "data": {
            "text/plain": [
              "<Figure size 1600x400 with 1 Axes>"
            ],
            "image/png": "[encoded data removed]"
          },
          "metadata": {}
        }
      ]
    },
    {
      "cell_type": "code",
      "source": [
        "#  Add New Collumn named \"Adj Close Log\" into the Dataframe\n",
        "df_train[\"Adj Close Log\"] = df_train.apply(lambda x: np.log(x[\"Adj Close\"]), axis = 1)"
      ],
      "metadata": {
        "id": "-e4o2pw9ULGo"
      },
      "execution_count": null,
      "outputs": []
    },
    {
      "cell_type": "code",
      "source": [
        "df_test[\"Adj Close Log\"] = df_test.apply(lambda x: np.log(x[\"Adj Close\"]), axis = 1)"
      ],
      "metadata": {
        "id": "NtJbPfWiPk_Q"
      },
      "execution_count": null,
      "outputs": []
    },
    {
      "cell_type": "code",
      "source": [
        "# Choose subset from index collumn 4 and 5 \n",
        "training_set = df_train.iloc[:,4:6].values\n",
        "testing_set = df_test.iloc[:,4:6].values"
      ],
      "metadata": {
        "id": "unM7A8HjPrMm"
      },
      "execution_count": null,
      "outputs": []
    },
    {
      "cell_type": "markdown",
      "source": [
        "\n",
        "\n",
        "---\n",
        "\n",
        "\n",
        "### Model Development\n",
        "\n",
        "---\n",
        "\n"
      ],
      "metadata": {
        "id": "Bq_6G_BnB3M8"
      }
    },
    {
      "cell_type": "code",
      "source": [
        "# Scaling the dataset\n",
        "sc = MinMaxScaler(feature_range=(0,1))\n",
        "training_set_scaled = sc.fit_transform(training_set)\n",
        "testing_set_scaled = sc.transform(testing_set)"
      ],
      "metadata": {
        "id": "BuyAVautPtud"
      },
      "execution_count": null,
      "outputs": []
    },
    {
      "cell_type": "code",
      "source": [
        "def plot_predictions(test,predicted):\n",
        "    plt.plot(test, color='red',label='Actual Gold Price')\n",
        "    plt.plot(predicted, color='blue',label='Predicted Gold Price')\n",
        "    plt.title('Gold Price Prediction')\n",
        "    plt.xlabel('Time')\n",
        "    plt.ylabel('Gold Price')\n",
        "    plt.legend()\n",
        "    plt.show()\n",
        "\n",
        "def return_rmse(test,predicted):\n",
        "    mae = mean_absolute_error(test, predicted)\n",
        "    rmse = mean_squared_error(test, predicted, squared= False)\n",
        "    print(\"Mean absolute error, MAE = {}\".format(mae))\n",
        "    print(\"Root mean squared error, RMSE = {}\".format(rmse))\n",
        "\n",
        "def cal_X_y(dataset, h_id):\n",
        "    X, y = [], []\n",
        "    for i in range(h_id,len(dataset)-h_id):\n",
        "        X.append(dataset[i-h_id:i,0])\n",
        "        y.append(dataset[i,0])\n",
        "    X, y = np.array(X), np.array(y)\n",
        "    return X,y"
      ],
      "metadata": {
        "id": "HEP6wcrheeeN"
      },
      "execution_count": null,
      "outputs": []
    },
    {
      "cell_type": "code",
      "source": [
        "# Forecasting Horizon = 4 days\n",
        "X_train, y_train = cal_X_y(training_set_scaled, 4)\n",
        "X_test, y_test = cal_X_y(testing_set_scaled, 4)"
      ],
      "metadata": {
        "id": "ZkCG33M4Y2WB"
      },
      "execution_count": null,
      "outputs": []
    },
    {
      "cell_type": "code",
      "source": [
        "X_train[:5]"
      ],
      "metadata": {
        "colab": {
          "base_uri": "https://localhost:8080/"
        },
        "id": "ZrtyLDhYY9PJ",
        "outputId": "cc3c3c8b-b880-4c1c-dc85-36071264d132"
      },
      "execution_count": null,
      "outputs": [
        {
          "output_type": "execute_result",
          "data": {
            "text/plain": [
              "array([[0.70893176, 0.74859794, 0.74367384, 0.77253447],\n",
              "       [0.74859794, 0.74367384, 0.77253447, 0.77499662],\n",
              "       [0.74367384, 0.77253447, 0.77499662, 0.75967709],\n",
              "       [0.77253447, 0.77499662, 0.75967709, 0.76337023],\n",
              "       [0.77499662, 0.75967709, 0.76337023, 0.74422108]])"
            ]
          },
          "metadata": {},
          "execution_count": 14
        }
      ]
    },
    {
      "cell_type": "code",
      "source": [
        "y_train[:5]"
      ],
      "metadata": {
        "id": "8cagMVhxaBo9",
        "colab": {
          "base_uri": "https://localhost:8080/"
        },
        "outputId": "256b0fde-87fa-450b-8be6-2033a70ac3f0"
      },
      "execution_count": null,
      "outputs": [
        {
          "output_type": "execute_result",
          "data": {
            "text/plain": [
              "array([0.77499662, 0.75967709, 0.76337023, 0.74422108, 0.6911503 ])"
            ]
          },
          "metadata": {},
          "execution_count": 15
        }
      ]
    },
    {
      "cell_type": "code",
      "source": [
        "X_train = X_train.reshape(X_train.shape[0],X_train.shape[1],1)\n",
        "X_test = X_test.reshape((X_test.shape[0],X_train.shape[1],1))"
      ],
      "metadata": {
        "id": "3178jAvdaEEE"
      },
      "execution_count": null,
      "outputs": []
    },
    {
      "cell_type": "code",
      "source": [
        "X_train_re = X_train.reshape((X_train.shape[0],1,X_train.shape[1],1))\n",
        "X_test_re = X_test.reshape((X_test.shape[0],1,X_train.shape[1],1))"
      ],
      "metadata": {
        "id": "zYtKRNdG_gvL"
      },
      "execution_count": null,
      "outputs": []
    },
    {
      "cell_type": "code",
      "source": [
        "y_train = np.reshape(y_train, (y_train.shape[0],))\n",
        "y_test = np.reshape(y_test, (y_test.shape[0],))"
      ],
      "metadata": {
        "id": "obYHj7dQ_LJd"
      },
      "execution_count": null,
      "outputs": []
    },
    {
      "cell_type": "markdown",
      "source": [
        "\n",
        "\n",
        "---\n",
        "\n",
        "\n",
        "### Model Testing and Evaluation\n",
        "\n",
        "\n",
        "---\n",
        "\n"
      ],
      "metadata": {
        "id": "cj3JBVudCA7C"
      }
    },
    {
      "cell_type": "code",
      "source": [
        "# Model\n",
        "model1 = Sequential()\n",
        "# Describe Layer Model\n",
        "model1.add(TimeDistributed(Conv1D(filters = 32, kernel_size = 2, activation = 'relu', padding='same'), input_shape = (None,X_train_re.shape[2],1)))\n",
        "model1.add(TimeDistributed(Conv1D(filters = 64, kernel_size = 2, activation='relu', padding='same')))\n",
        "model1.add(TimeDistributed(MaxPooling1D(pool_size = 2)))\n",
        "model1.add(TimeDistributed(Flatten()))\n",
        "# LSTM model\n",
        "model1.add(LSTM(units = 100))\n",
        "# Output layer\n",
        "model1.add(Dense(1))\n",
        "# compile the model\n",
        "model1.compile(optimizer='adam',loss='mean_squared_error')\n",
        "model1.summary()"
      ],
      "metadata": {
        "id": "xVzrxGRnawdi",
        "colab": {
          "base_uri": "https://localhost:8080/"
        },
        "outputId": "d09db67f-3c96-4a3b-cd3c-1b4b793f0800"
      },
      "execution_count": null,
      "outputs": [
        {
          "output_type": "stream",
          "name": "stdout",
          "text": [
            "Model: \"sequential_1\"\n",
            "_________________________________________________________________\n",
            " Layer (type)                Output Shape              Param #   \n",
            "=================================================================\n",
            " time_distributed_4 (TimeDis  (None, None, 4, 32)      96        \n",
            " tributed)                                                       \n",
            "                                                                 \n",
            " time_distributed_5 (TimeDis  (None, None, 4, 64)      4160      \n",
            " tributed)                                                       \n",
            "                                                                 \n",
            " time_distributed_6 (TimeDis  (None, None, 2, 64)      0         \n",
            " tributed)                                                       \n",
            "                                                                 \n",
            " time_distributed_7 (TimeDis  (None, None, 128)        0         \n",
            " tributed)                                                       \n",
            "                                                                 \n",
            " lstm_1 (LSTM)               (None, 100)               91600     \n",
            "                                                                 \n",
            " dense_1 (Dense)             (None, 1)                 101       \n",
            "                                                                 \n",
            "=================================================================\n",
            "Total params: 95,957\n",
            "Trainable params: 95,957\n",
            "Non-trainable params: 0\n",
            "_________________________________________________________________\n"
          ]
        }
      ]
    },
    {
      "cell_type": "code",
      "source": [
        "model1.fit(X_train_re, y_train,A epochs=50, batch_size=128, verbose=True)"
      ],
      "metadata": {
        "colab": {
          "base_uri": "https://localhost:8080/",
          "height": 130
        },
        "id": "ZVC1EQ4ZnueU",
        "outputId": "a1f7219d-997b-4f8b-83f8-9181e53ae366"
      },
      "execution_count": null,
      "outputs": [
        {
          "output_type": "error",
          "ename": "SyntaxError",
          "evalue": "ignored",
          "traceback": [
            "\u001b[0;36m  File \u001b[0;32m\"<ipython-input-22-9326fa00ad4c>\"\u001b[0;36m, line \u001b[0;32m1\u001b[0m\n\u001b[0;31m    model1.fit(X_train_re, y_train,A epochs=50, batch_size=128, verbose=True)\u001b[0m\n\u001b[0m                                   ^\u001b[0m\n\u001b[0;31mSyntaxError\u001b[0m\u001b[0;31m:\u001b[0m invalid syntax. Perhaps you forgot a comma?\n"
          ]
        }
      ]
    },
    {
      "cell_type": "markdown",
      "source": [
        "\n",
        "\n",
        "---\n",
        "\n",
        "\n",
        "### Conclusion\n",
        "\n",
        "---\n",
        "\n"
      ],
      "metadata": {
        "id": "7OlUvexBCIi4"
      }
    },
    {
      "cell_type": "code",
      "source": [
        "predicted_y_test = model1.predict(X_test_re)"
      ],
      "metadata": {
        "colab": {
          "base_uri": "https://localhost:8080/"
        },
        "id": "nyQWBaRGgBxj",
        "outputId": "ae4396bf-3cd2-4fa6-a141-34dd569b85de"
      },
      "execution_count": null,
      "outputs": [
        {
          "output_type": "stream",
          "name": "stdout",
          "text": [
            "54/54 [==============================] - 1s 2ms/step\n"
          ]
        }
      ]
    },
    {
      "cell_type": "code",
      "source": [
        "return_rmse(y_test,predicted_y_test)\n"
      ],
      "metadata": {
        "id": "y4J8zzjGigO5",
        "colab": {
          "base_uri": "https://localhost:8080/"
        },
        "outputId": "3644deb5-55ab-4564-bfc2-2cf71ae0b383"
      },
      "execution_count": null,
      "outputs": [
        {
          "output_type": "stream",
          "name": "stdout",
          "text": [
            "Mean absolute error, MAE = 0.36296597522863744\n",
            "Root mean squared error, RMSE = 0.4338286898974997\n"
          ]
        }
      ]
    },
    {
      "cell_type": "code",
      "source": [
        "print(predicted_y_test)"
      ],
      "metadata": {
        "colab": {
          "base_uri": "https://localhost:8080/"
        },
        "id": "4yne4YstARfm",
        "outputId": "926a9e97-3061-4ac2-b167-47a74f865467"
      },
      "execution_count": null,
      "outputs": [
        {
          "output_type": "stream",
          "name": "stdout",
          "text": [
            "[[0.00641093]\n",
            " [0.0065252 ]\n",
            " [0.00662875]\n",
            " ...\n",
            " [0.00210451]\n",
            " [0.00216953]\n",
            " [0.00226945]]\n"
          ]
        }
      ]
    },
    {
      "cell_type": "code",
      "source": [
        "plot_predictions(y_train,predicted_y_test) \n",
        "# X_train_re, y_train"
      ],
      "metadata": {
        "colab": {
          "base_uri": "https://localhost:8080/",
          "height": 472
        },
        "id": "0iMm9gJeGnHK",
        "outputId": "3a9e175d-83cc-493c-e704-7279a12ba110"
      },
      "execution_count": null,
      "outputs": [
        {
          "output_type": "display_data",
          "data": {
            "text/plain": [
              "<Figure size 640x480 with 1 Axes>"
            ],
            "image/png": "[encoded data removed]"
          },
          "metadata": {}
        }
      ]
    },
    {
      "cell_type": "code",
      "source": [
        "# predicted_y_real_price = np.exp(sc.inverse_transform(predicted_y_test))\n",
        "# y_real_price = np.exp(sc.inverse_transform(y_test.reshape(-1,1)))"
      ],
      "metadata": {
        "id": "dKbLd3T0J7P-"
      },
      "execution_count": null,
      "outputs": []
    },
    {
      "cell_type": "code",
      "source": [
        "# # Visualizing the results for CCN-LSTM-1 Model for forecasting horizon = 6\n",
        "# plot_predictions(y_test_real_price,predicted_y_test_real_price)"
      ],
      "metadata": {
        "id": "0sgwvY1zR6N3"
      },
      "execution_count": null,
      "outputs": []
    },
    {
      "cell_type": "markdown",
      "source": [
        "THE END\n"
      ],
      "metadata": {
        "id": "aqRYRtbsmugG"
      }
    }
  ]
}